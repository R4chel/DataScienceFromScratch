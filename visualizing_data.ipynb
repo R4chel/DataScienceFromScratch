{
 "cells": [
  {
   "cell_type": "code",
   "execution_count": null,
   "metadata": {
    "collapsed": false
   },
   "outputs": [],
   "source": [
    "from __future__ import division\n",
    "from collections import Counter\n",
    "import math\n",
    "from bokeh.charts import Histogram\n",
    "from bokeh.io import output_notebook\n",
    "from bokeh.models import Range1d, FixedTicker\n",
    "from bokeh.plotting import figure, show, gridplot"
   ]
  },
  {
   "cell_type": "code",
   "execution_count": null,
   "metadata": {
    "collapsed": false
   },
   "outputs": [],
   "source": [
    "output_notebook()"
   ]
  },
  {
   "cell_type": "code",
   "execution_count": null,
   "metadata": {
    "collapsed": false
   },
   "outputs": [],
   "source": [
    "# Simple Line Plot\n",
    "years = [1950, 1960, 1970, 1980, 1990, 2000, 2010]\n",
    "gdp = [300.2, 543.3, 1075.9, 2862.5, 5979.6, 10289.7, 14958.3]\n",
    "\n",
    "p = figure(title=\"Nominal GDP\", y_axis_label=\"Billions of $\", \n",
    "           width=400, height=400, tools=\"\")\n",
    "p.circle(years, gdp, fill_color=\"green\", line_color=None)\n",
    "p.line(years, gdp, line_color=\"green\")\n",
    "\n",
    "show(p)"
   ]
  },
  {
   "cell_type": "code",
   "execution_count": null,
   "metadata": {
    "collapsed": false
   },
   "outputs": [],
   "source": [
    "# Bar Chart\n",
    "movies = [\"Annie Hall\", \"Ben-Hur\", \"Casablanca\", \"Gandhi\", \"West Side Story\"]\n",
    "num_oscars = [5, 11, 3, 8, 10]\n",
    "\n",
    "yr = Range1d(0,max(num_oscars)+1)\n",
    "yc = [num/2 for num in num_oscars]\n",
    "pos = range(1, len(movies)+1)\n",
    "\n",
    "p = figure(title=\"My Favorite Movies\", y_axis_label=\"# of Academy Awards\", \n",
    "           x_range=movies, y_range=yr, width=500, height=500, tools=\"\")\n",
    "p.rect(pos, yc, width=0.75, height=num_oscars)\n",
    "\n",
    "p.grid.grid_line_color = None\n",
    "p.axis.minor_tick_line_color = None\n",
    "p.xaxis.major_label_orientation = math.pi/4\n",
    "p.xaxis.major_tick_line_color = None\n",
    "\n",
    "\n",
    "show(p)"
   ]
  },
  {
   "cell_type": "code",
   "execution_count": null,
   "metadata": {
    "collapsed": false
   },
   "outputs": [],
   "source": [
    "# Histogram\n",
    "grades = [83,95,91,87,70,0,85,82,100,67,73,77,0]\n",
    "decile = lambda grade: grade // 10 * 10 \n",
    "histogram = Counter(decile(grade) for grade in grades)\n",
    "\n",
    "xr = Range1d(-5, 105)\n",
    "yr = Range1d(0, 5)\n",
    "yc = [val/2 for val in histogram.values()]\n",
    "\n",
    "p = figure(title=\"Distribution of Exam 1 Grades\", \n",
    "           x_axis_label=\"Decile\", y_axis_label=\"# of students\",\n",
    "           x_range=xr, y_range=yr, height=400, width=400, tools=\"\") \n",
    "p.rect(histogram.keys(), yc, width=8, height=histogram.values())\n",
    "\n",
    "p.axis.minor_tick_line_color = None\n",
    "p.grid.grid_line_color = None\n",
    "p.xaxis.ticker = FixedTicker(ticks=range(0,101,10))\n",
    "show(p)"
   ]
  },
  {
   "cell_type": "code",
   "execution_count": null,
   "metadata": {
    "collapsed": false
   },
   "outputs": [],
   "source": [
    "# Alternative Histogram \n",
    "grades = [83,95,91,87,70,0,85,82,100,67,73,77,0]\n",
    "\n",
    "p = Histogram(grades, bins=10, title=\"Distribution of Exam 1 Grades\", \n",
    "              xlabel=\"Decile\", ylabel=\"# of students\",\n",
    "              tools=False)\n",
    "p._xaxis.ticker = FixedTicker(ticks=range(0,101,10))\n",
    "\n",
    "show(p)"
   ]
  },
  {
   "cell_type": "code",
   "execution_count": null,
   "metadata": {
    "collapsed": false
   },
   "outputs": [],
   "source": [
    "# Misleading y-axis\n",
    "def make_misleading_graph(mislead=True):\n",
    "    mentions = [500, 505]\n",
    "    years = [2013, 2014]\n",
    "    p = figure(y_axis_label=\"# of times mentioned\", tools=\"\", width=400, height=400)\n",
    "    p.rect(years, [m/2 for m in mentions], width = 0.75, height=mentions)\n",
    "    p.axis.minor_tick_line_color = None\n",
    "    p.grid.grid_line_color = None\n",
    "    p.xaxis.ticker = FixedTicker(ticks=[2013,2014])\n",
    "    p.title = \"Look at the 'Huge' Increase!\" if mislead else \"Not So Huge Anymore\"\n",
    "    p.y_range = Range1d(499,506) if mislead else Range1d(0,550)\n",
    "    return p \n",
    "\n",
    "show(gridplot([[make_misleading_graph(True), make_misleading_graph(False)]]))"
   ]
  },
  {
   "cell_type": "code",
   "execution_count": null,
   "metadata": {
    "collapsed": false
   },
   "outputs": [],
   "source": [
    "# Line charts\n",
    "variance     = [1,2,4,8,16,32,64,128,256]\n",
    "bias_squared = [256,128,64,32,16,8,4,2,1]\n",
    "total_error  = [x + y for x, y in zip(variance, bias_squared)]\n",
    "xs = range(len(variance))\n",
    "\n",
    "p = figure(title=\"The Bias-Variance Tradeoff\", x_axis_label=\"Model complexity\", \n",
    "           width=400, height=400, tools=\"\")\n",
    "p.line(xs, variance, line_color=\"green\", legend=\"variance\")\n",
    "p.line(xs, bias_squared, line_color=\"red\", line_dash=\"dashdot\", legend=\"bias^2\")\n",
    "p.line(xs, total_error, line_color=\"blue\", line_dash=\"dotted\", legend=\"total error\")\n",
    "\n",
    "show(p)"
   ]
  },
  {
   "cell_type": "code",
   "execution_count": null,
   "metadata": {
    "collapsed": true
   },
   "outputs": [],
   "source": []
  }
 ],
 "metadata": {
  "kernelspec": {
   "display_name": "Python 2",
   "language": "python",
   "name": "python2"
  },
  "language_info": {
   "codemirror_mode": {
    "name": "ipython",
    "version": 2
   },
   "file_extension": ".py",
   "mimetype": "text/x-python",
   "name": "python",
   "nbconvert_exporter": "python",
   "pygments_lexer": "ipython2",
   "version": "2.7.10"
  }
 },
 "nbformat": 4,
 "nbformat_minor": 0
}
